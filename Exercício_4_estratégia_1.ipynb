{
  "nbformat": 4,
  "nbformat_minor": 0,
  "metadata": {
    "colab": {
      "provenance": [],
      "authorship_tag": "ABX9TyPP3ev1V+Tuleb+CmhGCuVY",
      "include_colab_link": true
    },
    "kernelspec": {
      "name": "python3",
      "display_name": "Python 3"
    },
    "language_info": {
      "name": "python"
    }
  },
  "cells": [
    {
      "cell_type": "markdown",
      "metadata": {
        "id": "view-in-github",
        "colab_type": "text"
      },
      "source": [
        "<a href=\"https://colab.research.google.com/github/carlostorresrj/agenda/blob/master/Exerc%C3%ADcio_4_estrat%C3%A9gia_1.ipynb\" target=\"_parent\"><img src=\"https://colab.research.google.com/assets/colab-badge.svg\" alt=\"Open In Colab\"/></a>"
      ]
    },
    {
      "cell_type": "code",
      "execution_count": 19,
      "metadata": {
        "colab": {
          "base_uri": "https://localhost:8080/"
        },
        "id": "ipCo17fbm6j7",
        "outputId": "b671942f-1e96-43ea-9a73-c586c829a522"
      },
      "outputs": [
        {
          "output_type": "stream",
          "name": "stdout",
          "text": [
            "O somnatório dos elementos pares da lista é: 18\n"
          ]
        }
      ],
      "source": [
        "lista = [10, 2, 5, 7, 6, 3]\n",
        "\n",
        "n = len(lista)\n",
        "soma = 0\n",
        "\n",
        "for i in range(n):\n",
        "  if(lista [i] % 2 == 0):\n",
        "    soma = soma + lista[i]\n",
        "\n",
        "print(f'O somnatório dos elementos pares da lista é: {soma}')\n"
      ]
    }
  ]
}