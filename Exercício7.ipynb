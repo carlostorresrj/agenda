{
  "nbformat": 4,
  "nbformat_minor": 0,
  "metadata": {
    "colab": {
      "provenance": [],
      "authorship_tag": "ABX9TyOrHXYFwKBRQh1mnUbff4xn",
      "include_colab_link": true
    },
    "kernelspec": {
      "name": "python3",
      "display_name": "Python 3"
    },
    "language_info": {
      "name": "python"
    }
  },
  "cells": [
    {
      "cell_type": "markdown",
      "metadata": {
        "id": "view-in-github",
        "colab_type": "text"
      },
      "source": [
        "<a href=\"https://colab.research.google.com/github/carlostorresrj/agenda/blob/master/Exerc%C3%ADcio7.ipynb\" target=\"_parent\"><img src=\"https://colab.research.google.com/assets/colab-badge.svg\" alt=\"Open In Colab\"/></a>"
      ]
    },
    {
      "cell_type": "code",
      "execution_count": 12,
      "metadata": {
        "colab": {
          "base_uri": "https://localhost:8080/"
        },
        "id": "ipCo17fbm6j7",
        "outputId": "af066d82-4b9f-4fbe-a2f0-b518b64354e6"
      },
      "outputs": [
        {
          "output_type": "stream",
          "name": "stdout",
          "text": [
            "O numero 7 é primo\n"
          ]
        }
      ],
      "source": [
        "def eh_primo(n):\n",
        "  if(n<2):\n",
        "    return False\n",
        "  i = n // 2\n",
        "  while(i>1):\n",
        "    if(n%i==0):\n",
        "      return False\n",
        "    i = i - 1\n",
        "  return True\n",
        "\n",
        "def imprimir_resultado(numero, resultado):\n",
        "  mensagem = f'O numero {numero} não é primo'\n",
        "  if(resultado):\n",
        "    mensagem = f'O numero {numero} é primo'\n",
        "  return mensagem\n",
        "\n",
        "numero = 7\n",
        "resultado = eh_primo(numero)\n",
        "msg = imprimir_resultado(numero, resultado)\n",
        "print(msg)\n",
        "\n",
        "\n"
      ]
    }
  ]
}