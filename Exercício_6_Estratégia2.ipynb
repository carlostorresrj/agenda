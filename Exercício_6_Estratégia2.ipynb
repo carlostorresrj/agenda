{
  "nbformat": 4,
  "nbformat_minor": 0,
  "metadata": {
    "colab": {
      "provenance": [],
      "authorship_tag": "ABX9TyNWlJBFZQcxkeQZ2Budwftl",
      "include_colab_link": true
    },
    "kernelspec": {
      "name": "python3",
      "display_name": "Python 3"
    },
    "language_info": {
      "name": "python"
    }
  },
  "cells": [
    {
      "cell_type": "markdown",
      "metadata": {
        "id": "view-in-github",
        "colab_type": "text"
      },
      "source": [
        "<a href=\"https://colab.research.google.com/github/carlostorresrj/agenda/blob/master/Exerc%C3%ADcio_6_Estrat%C3%A9gia2.ipynb\" target=\"_parent\"><img src=\"https://colab.research.google.com/assets/colab-badge.svg\" alt=\"Open In Colab\"/></a>"
      ]
    },
    {
      "cell_type": "code",
      "execution_count": 4,
      "metadata": {
        "colab": {
          "base_uri": "https://localhost:8080/"
        },
        "id": "ipCo17fbm6j7",
        "outputId": "e18e7e40-31a8-4f98-bc58-2c81ce6058cd"
      },
      "outputs": [
        {
          "output_type": "stream",
          "name": "stdout",
          "text": [
            "O Fatorial de 5 é: 120\n"
          ]
        }
      ],
      "source": [
        "# Estratégia 2\n",
        "\n",
        "def fatorial_recursivo(n):\n",
        "  if((n == 0) or (n == 1)):\n",
        "    return 1\n",
        "  return n * fatotrial_recursivo(n - 1)\n",
        "\n",
        "numero = 5\n",
        "\n",
        "print(f'O Fatorial de {numero} é: {fatotrial_iterativo(numero)}')"
      ]
    }
  ]
}