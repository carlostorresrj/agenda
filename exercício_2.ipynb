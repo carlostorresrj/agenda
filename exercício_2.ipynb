{
  "nbformat": 4,
  "nbformat_minor": 0,
  "metadata": {
    "colab": {
      "provenance": [],
      "authorship_tag": "ABX9TyOdrUcjl7DmwgwsE76gaoDa",
      "include_colab_link": true
    },
    "kernelspec": {
      "name": "python3",
      "display_name": "Python 3"
    },
    "language_info": {
      "name": "python"
    }
  },
  "cells": [
    {
      "cell_type": "markdown",
      "metadata": {
        "id": "view-in-github",
        "colab_type": "text"
      },
      "source": [
        "<a href=\"https://colab.research.google.com/github/carlostorresrj/agenda/blob/master/exerc%C3%ADcio_2.ipynb\" target=\"_parent\"><img src=\"https://colab.research.google.com/assets/colab-badge.svg\" alt=\"Open In Colab\"/></a>"
      ]
    },
    {
      "cell_type": "code",
      "execution_count": 5,
      "metadata": {
        "colab": {
          "base_uri": "https://localhost:8080/"
        },
        "id": "ipCo17fbm6j7",
        "outputId": "da93d0fd-d0bd-4b84-be6b-bd1650038576"
      },
      "outputs": [
        {
          "output_type": "stream",
          "name": "stdout",
          "text": [
            "Aprovado\n"
          ]
        }
      ],
      "source": [
        "media = 8.5\n",
        "\n",
        "if(media>=7.0):\n",
        "  situacao = \"Aprovado\"\n",
        "elif(media>=5.0):\n",
        "  situacao = \"em recuperação\"\n",
        "else:\n",
        "  situacao = \"Reprovado\"\n",
        "\n",
        "print(situacao)\n"
      ]
    }
  ]
}