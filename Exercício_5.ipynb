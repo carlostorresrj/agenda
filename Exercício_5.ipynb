{
  "nbformat": 4,
  "nbformat_minor": 0,
  "metadata": {
    "colab": {
      "provenance": [],
      "authorship_tag": "ABX9TyMYjNytUR/i6+7Okt9uzoeg",
      "include_colab_link": true
    },
    "kernelspec": {
      "name": "python3",
      "display_name": "Python 3"
    },
    "language_info": {
      "name": "python"
    }
  },
  "cells": [
    {
      "cell_type": "markdown",
      "metadata": {
        "id": "view-in-github",
        "colab_type": "text"
      },
      "source": [
        "<a href=\"https://colab.research.google.com/github/carlostorresrj/agenda/blob/master/Exerc%C3%ADcio_5.ipynb\" target=\"_parent\"><img src=\"https://colab.research.google.com/assets/colab-badge.svg\" alt=\"Open In Colab\"/></a>"
      ]
    },
    {
      "cell_type": "code",
      "execution_count": 1,
      "metadata": {
        "colab": {
          "base_uri": "https://localhost:8080/"
        },
        "id": "ipCo17fbm6j7",
        "outputId": "ee19b034-0630-4a08-8868-f60c412f0de1"
      },
      "outputs": [
        {
          "output_type": "stream",
          "name": "stdout",
          "text": [
            "O somatório dos elementos pares da lista é: 18\n"
          ]
        }
      ],
      "source": [
        "def ehPar(n):\n",
        "    r = (n%2==0)\n",
        "    return r\n",
        "\n",
        "def somar_par(lst):\n",
        "    soma = 0\n",
        "    for num in lst:\n",
        "        if (ehPar(num)):\n",
        "            soma = soma + num\n",
        "    return soma\n",
        "\n",
        "lista = [10, 2, 5, 7, 6, 3]\n",
        "soma = somar_par(lista)\n",
        "print(f'O somatório dos elementos pares da lista é: {soma}')"
      ]
    }
  ]
}