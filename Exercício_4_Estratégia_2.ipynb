{
  "nbformat": 4,
  "nbformat_minor": 0,
  "metadata": {
    "colab": {
      "provenance": [],
      "authorship_tag": "ABX9TyNt5WnKsLQ7vLgVRn3RkKeM",
      "include_colab_link": true
    },
    "kernelspec": {
      "name": "python3",
      "display_name": "Python 3"
    },
    "language_info": {
      "name": "python"
    }
  },
  "cells": [
    {
      "cell_type": "markdown",
      "metadata": {
        "id": "view-in-github",
        "colab_type": "text"
      },
      "source": [
        "<a href=\"https://colab.research.google.com/github/carlostorresrj/agenda/blob/master/Exerc%C3%ADcio_4_Estrat%C3%A9gia_2.ipynb\" target=\"_parent\"><img src=\"https://colab.research.google.com/assets/colab-badge.svg\" alt=\"Open In Colab\"/></a>"
      ]
    },
    {
      "cell_type": "code",
      "execution_count": 20,
      "metadata": {
        "colab": {
          "base_uri": "https://localhost:8080/"
        },
        "id": "ipCo17fbm6j7",
        "outputId": "4ceb6a39-ba7f-44a9-c471-16be593cabf5"
      },
      "outputs": [
        {
          "output_type": "stream",
          "name": "stdout",
          "text": [
            "O somnatório dos elementos pares da lista é: 18\n"
          ]
        }
      ],
      "source": [
        "lista = [10, 2, 5, 7, 6, 3]\n",
        "\n",
        "soma = 0\n",
        "\n",
        "for num in lista:\n",
        "  if(num % 2 == 0):\n",
        "    soma = soma + num\n",
        "\n",
        "print(f'O somnatório dos elementos pares da lista é: {soma}')\n"
      ]
    }
  ]
}