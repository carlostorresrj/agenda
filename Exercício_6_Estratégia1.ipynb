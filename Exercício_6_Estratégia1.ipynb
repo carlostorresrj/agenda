{
  "nbformat": 4,
  "nbformat_minor": 0,
  "metadata": {
    "colab": {
      "provenance": [],
      "authorship_tag": "ABX9TyN3XS5+57bjfWmCSFaToLSv",
      "include_colab_link": true
    },
    "kernelspec": {
      "name": "python3",
      "display_name": "Python 3"
    },
    "language_info": {
      "name": "python"
    }
  },
  "cells": [
    {
      "cell_type": "markdown",
      "metadata": {
        "id": "view-in-github",
        "colab_type": "text"
      },
      "source": [
        "<a href=\"https://colab.research.google.com/github/carlostorresrj/agenda/blob/master/Exerc%C3%ADcio_6_Estrat%C3%A9gia1.ipynb\" target=\"_parent\"><img src=\"https://colab.research.google.com/assets/colab-badge.svg\" alt=\"Open In Colab\"/></a>"
      ]
    },
    {
      "cell_type": "code",
      "execution_count": 9,
      "metadata": {
        "colab": {
          "base_uri": "https://localhost:8080/"
        },
        "id": "ipCo17fbm6j7",
        "outputId": "6f55f0ce-38ab-4bde-c094-b569474e5b0c"
      },
      "outputs": [
        {
          "output_type": "stream",
          "name": "stdout",
          "text": [
            "O Fatorial de 5 é: 120\n"
          ]
        }
      ],
      "source": [
        "# Estratégia 1\n",
        "\n",
        "def fatotrial_iterativo(n):\n",
        "  f = 1\n",
        "  for i in range(1,n+1):\n",
        "    f = f * i\n",
        "  return f\n",
        "\n",
        "numero = 5\n",
        "\n",
        "print(f'O Fatorial de {numero} é: {fatotrial_iterativo(numero)}')"
      ]
    }
  ]
}