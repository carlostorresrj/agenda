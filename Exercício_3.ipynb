{
  "nbformat": 4,
  "nbformat_minor": 0,
  "metadata": {
    "colab": {
      "provenance": [],
      "authorship_tag": "ABX9TyNZwVwxlcBOvmflqLjYIvUM",
      "include_colab_link": true
    },
    "kernelspec": {
      "name": "python3",
      "display_name": "Python 3"
    },
    "language_info": {
      "name": "python"
    }
  },
  "cells": [
    {
      "cell_type": "markdown",
      "metadata": {
        "id": "view-in-github",
        "colab_type": "text"
      },
      "source": [
        "<a href=\"https://colab.research.google.com/github/carlostorresrj/agenda/blob/master/Exerc%C3%ADcio_3.ipynb\" target=\"_parent\"><img src=\"https://colab.research.google.com/assets/colab-badge.svg\" alt=\"Open In Colab\"/></a>"
      ]
    },
    {
      "cell_type": "code",
      "execution_count": 13,
      "metadata": {
        "colab": {
          "base_uri": "https://localhost:8080/"
        },
        "id": "ipCo17fbm6j7",
        "outputId": "e81e2348-49bb-4903-ca27-c394c77aa208"
      },
      "outputs": [
        {
          "output_type": "stream",
          "name": "stdout",
          "text": [
            "Digite a quantidade que vai comprar: 30\n",
            "O valor final da compra é: R$240.0\n"
          ]
        }
      ],
      "source": [
        "preco_unitario = 10\n",
        "DESCONTO10 = 0.1\n",
        "DESCONTO20 = 0.2\n",
        "quantidade = eval(input(\"Digite a quantidade que vai comprar: \"))\n",
        "if(quantidade <= 10): # menor ou igual a 10\n",
        "  valor_fnal = preco_unitario * quantidade\n",
        "elif(quantidade <= 20): # maior que 10 e menor ou igual a 20\n",
        "  valor_fnal = preco_unitario * quantidade * (1-DESCONTO10)\n",
        "else: # maior que 20\n",
        "  valor_final = preco_unitario * quantidade * (1-DESCONTO20)\n",
        "\n",
        "print(f'O valor final da compra é: R${valor_final}')       \n",
        "\n"
      ]
    }
  ]
}