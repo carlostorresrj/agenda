{
  "nbformat": 4,
  "nbformat_minor": 0,
  "metadata": {
    "colab": {
      "provenance": [],
      "authorship_tag": "ABX9TyPSXaMXD7SBzM23UIHeg266",
      "include_colab_link": true
    },
    "kernelspec": {
      "name": "python3",
      "display_name": "Python 3"
    },
    "language_info": {
      "name": "python"
    }
  },
  "cells": [
    {
      "cell_type": "markdown",
      "metadata": {
        "id": "view-in-github",
        "colab_type": "text"
      },
      "source": [
        "<a href=\"https://colab.research.google.com/github/carlostorresrj/agenda/blob/master/Exerc%C3%ADcio_2.ipynb\" target=\"_parent\"><img src=\"https://colab.research.google.com/assets/colab-badge.svg\" alt=\"Open In Colab\"/></a>"
      ]
    },
    {
      "cell_type": "code",
      "execution_count": 8,
      "metadata": {
        "colab": {
          "base_uri": "https://localhost:8080/"
        },
        "id": "ipCo17fbm6j7",
        "outputId": "404a2943-e6a7-419a-9246-6a92741b0890"
      },
      "outputs": [
        {
          "output_type": "stream",
          "name": "stdout",
          "text": [
            "O estudante está aprovado: Aprovado\n"
          ]
        }
      ],
      "source": [
        "media = 8.5\n",
        "\n",
        "if(media>=7.0):\n",
        "  situacao = \"Aprovado\"\n",
        "elif(media>=5.0):\n",
        "  situacao = \"em recuperação\"\n",
        "else:\n",
        "  situacao = \"Reprovado\"\n",
        "\n",
        "print(f'O estudante está aprovado: {situacao}')\n"
      ]
    }
  ]
}